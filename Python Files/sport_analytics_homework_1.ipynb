{
 "cells": [
  {
   "cell_type": "code",
   "execution_count": 194,
   "metadata": {},
   "outputs": [
    {
     "name": "stdout",
     "output_type": "stream",
     "text": [
      "The corner with the highest win percentage is red with 65.6%\n",
      "This is consistent with our last answer, where red still has the highest win percentage in every weight class\n"
     ]
    }
   ],
   "source": [
    "# 1) My favorite sport is soccer. The important metrics are shots, goals, assists, and goals-against average. Most of these are self explanatory, but goals-against average\n",
    "#    is calculated by multiplying goals allowed by 80, and then dividing that all by minutes played.\n",
    "\n",
    "# 2) When practitioners create a histogram, they are looking to visualize the frequency of some sort of data. From this we can determine central tendency, skewness, and\n",
    "#    possible outliers in our data. \n",
    "\n",
    "# importing pandas\n",
    "import pandas as pd\n",
    "\n",
    "# reading data\n",
    "ufc = pd.read_csv('UFC_data.csv')\n",
    "ufc.head()\n",
    "\n",
    "# removing observations where weight_class equals OpenWeight\n",
    "ufc_index = ufc[ufc['weight_class'] == 'OpenWeight'].index\n",
    "ufc.drop(ufc_index, inplace = True)\n",
    "ufc.shape[0]\n",
    "\n",
    "# determining win percentage for red, blue, and draw\n",
    "winrates = ufc['Winner'].value_counts(normalize = 'True').to_frame() # counting number of reds, blues, and draws -> convert to a percentage -> convert to a dataframe\n",
    "winrates = winrates.reset_index() # resetting our index so that the first row is 0 instead of 1\n",
    "winrates.columns = ['Color', 'Win Percentage'] # changing the column names\n",
    "winrates\n",
    "print('The corner with the highest win percentage is red with 65.6%')\n",
    "\n",
    "# determine win percentage for red, blue, and draw based on weight class\n",
    "weight_winrates = ufc[['Winner', 'weight_class']]\n",
    "weight_winrates = weight_winrates.groupby(['Winner', 'weight_class']).size().to_frame().unstack(fill_value = 1)\n",
    "weight_winrates = weight_winrates.reset_index()\n",
    "weight_winrates.max() \n",
    "print('This is consistent with our last answer, where red still has the highest win percentage in every weight class')\n",
    "\n"
   ]
  },
  {
   "cell_type": "code",
   "execution_count": null,
   "metadata": {},
   "outputs": [],
   "source": []
  }
 ],
 "metadata": {
  "kernelspec": {
   "display_name": "Python 3",
   "language": "python",
   "name": "python3"
  },
  "language_info": {
   "codemirror_mode": {
    "name": "ipython",
    "version": 3
   },
   "file_extension": ".py",
   "mimetype": "text/x-python",
   "name": "python",
   "nbconvert_exporter": "python",
   "pygments_lexer": "ipython3",
   "version": "3.8.3"
  }
 },
 "nbformat": 4,
 "nbformat_minor": 4
}
