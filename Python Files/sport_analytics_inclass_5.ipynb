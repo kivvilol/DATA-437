{
 "cells": [
  {
   "cell_type": "code",
   "execution_count": null,
   "metadata": {},
   "outputs": [],
   "source": [
    "# 1) Solve for the probability of E1 and then subtract from 1\n",
    "#      - P(E1) = 3P(E2) = 0.3\n",
    "#      - P(E2) = 0.1\n",
    "#      - P(E1) + P(E2) = 0.4\n",
    "#      - Because the other events are equally likely:\n",
    "#           - P(E3) + P(E4) + P(E5) = 0.6\n",
    "#           - P(E3) = 0.2, P(E4) = 0.2, P(E5) = 0.2\n",
    "\n",
    "# 2a) The sample space for 2 seperate coin flips are {HT, TH, HH, TT}\n",
    "#  b) We can assume that the sample points are equally likely at 0.25 or 25%.\n",
    "#  c) A = {HT, TH} = 0.50 or 50% , B = {HT, TH, HH} = 0.75 or 75%\n",
    "#  d) P(A) = 0.50\n",
    "#     P(B) = 0.75\n",
    "#     P(A ∩ B) = P(A)P(B) = 0.50\n",
    "#     P(A ∪ B) = P(A) + P(B) - P(A ∩ B) = 0.50 + 0.75 - 0.50 = 0.75"
   ]
  }
 ],
 "metadata": {
  "kernelspec": {
   "display_name": "Python 3",
   "language": "python",
   "name": "python3"
  },
  "language_info": {
   "codemirror_mode": {
    "name": "ipython",
    "version": 3
   },
   "file_extension": ".py",
   "mimetype": "text/x-python",
   "name": "python",
   "nbconvert_exporter": "python",
   "pygments_lexer": "ipython3",
   "version": "3.8.3"
  }
 },
 "nbformat": 4,
 "nbformat_minor": 4
}
