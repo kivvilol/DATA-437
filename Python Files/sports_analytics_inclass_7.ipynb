{
 "cells": [
  {
   "cell_type": "code",
   "execution_count": null,
   "metadata": {},
   "outputs": [],
   "source": [
    "# 1a) X ~ Bin(5, 0.7)\n",
    "#  b) P(X = 4) = (5 choose 4) * (0.7^4) * (1 - 0.7)^5-4 = 5*(0.7)^4 * 0.3 = 36%\n",
    "#  c) E(X) = 5 * 0.7 = 3.5\n",
    "#  d) Var(X) = 5 * 0.7 * (1 - 0.7) = 5 * 0.7 * 0.3 = 1.05\n",
    "\n",
    "# 2a) X ~ Bin(3, 0.46)\n",
    "#  b) 34.3%\n",
    "#  c) 1.38\n",
    "#  d) 0.863"
   ]
  }
 ],
 "metadata": {
  "kernelspec": {
   "display_name": "Python 3",
   "language": "python",
   "name": "python3"
  },
  "language_info": {
   "codemirror_mode": {
    "name": "ipython",
    "version": 3
   },
   "file_extension": ".py",
   "mimetype": "text/x-python",
   "name": "python",
   "nbconvert_exporter": "python",
   "pygments_lexer": "ipython3",
   "version": "3.8.3"
  }
 },
 "nbformat": 4,
 "nbformat_minor": 4
}
