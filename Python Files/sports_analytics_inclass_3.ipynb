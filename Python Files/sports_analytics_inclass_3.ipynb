{
 "cells": [
  {
   "cell_type": "code",
   "execution_count": 17,
   "metadata": {},
   "outputs": [
    {
     "data": {
      "text/plain": [
       "player_id\n",
       "8475883    6972\n",
       "8470645    6972\n",
       "8471695    6725\n",
       "8474889    6672\n",
       "8471469    6672\n",
       "           ... \n",
       "8476412     767\n",
       "8477990     753\n",
       "8474855     712\n",
       "8480263     554\n",
       "8479115       8\n",
       "Name: timeOnIce, Length: 173, dtype: int64"
      ]
     },
     "execution_count": 17,
     "metadata": {},
     "output_type": "execute_result"
    }
   ],
   "source": [
    "# importing pandas\n",
    "import pandas as pd\n",
    "\n",
    "# reading data frame\n",
    "goalie_stats = pd.read_csv('game_goalie_stats.csv')\n",
    "goalie_stats.head()\n",
    "\n",
    "# reporting average time on ice of each goalie\n",
    "goalie_stats.groupby('player_id')['timeOnIce'].mean()\n",
    "\n",
    "# reporting goalie with max time on ice\n",
    "goalie_stats.groupby('player_id')['timeOnIce'].max().sort_values(ascending = False)"
   ]
  }
 ],
 "metadata": {
  "kernelspec": {
   "display_name": "Python 3",
   "language": "python",
   "name": "python3"
  },
  "language_info": {
   "codemirror_mode": {
    "name": "ipython",
    "version": 3
   },
   "file_extension": ".py",
   "mimetype": "text/x-python",
   "name": "python",
   "nbconvert_exporter": "python",
   "pygments_lexer": "ipython3",
   "version": "3.8.3"
  }
 },
 "nbformat": 4,
 "nbformat_minor": 4
}
