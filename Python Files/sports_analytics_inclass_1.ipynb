{
 "cells": [
  {
   "cell_type": "code",
   "execution_count": 29,
   "metadata": {},
   "outputs": [
    {
     "data": {
      "text/plain": [
       "142"
      ]
     },
     "execution_count": 29,
     "metadata": {},
     "output_type": "execute_result"
    }
   ],
   "source": [
    "# importing pandas as pd\n",
    "import pandas as pd\n",
    "\n",
    "# reading csv file\n",
    "\n",
    "goalie_stats = pd.read_csv('game_goalie_stats.csv')\n",
    "\n",
    "# printing first 3 observations\n",
    "goalie_stats.head(3)\n",
    "\n",
    "# printing last 3 observations \n",
    "goalie_stats.tail(3)\n",
    "\n",
    "# reporting number of goalies\n",
    "goalie_stats['player_id'].nunique()\n",
    "\n",
    "# reporting number of goalies with save percentage > 95%\n",
    "goalie_stats[goalie_stats['savePercentage'] > 95]['player_id'].nunique()"
   ]
  }
 ],
 "metadata": {
  "kernelspec": {
   "display_name": "Python 3",
   "language": "python",
   "name": "python3"
  },
  "language_info": {
   "codemirror_mode": {
    "name": "ipython",
    "version": 3
   },
   "file_extension": ".py",
   "mimetype": "text/x-python",
   "name": "python",
   "nbconvert_exporter": "python",
   "pygments_lexer": "ipython3",
   "version": "3.8.3"
  }
 },
 "nbformat": 4,
 "nbformat_minor": 4
}
