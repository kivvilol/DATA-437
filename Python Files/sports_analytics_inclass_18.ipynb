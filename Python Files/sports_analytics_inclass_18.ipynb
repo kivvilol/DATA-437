{
 "cells": [
  {
   "cell_type": "code",
   "execution_count": null,
   "id": "18af4b01-de4a-4634-972b-8ee6a9a4842c",
   "metadata": {},
   "outputs": [],
   "source": [
    "import pandas as pd\n",
    "import numpy as np\n",
    "\n",
    "teams = pd.read_csv('Teams.csv')\n",
    "teams.head()"
   ]
  },
  {
   "cell_type": "code",
   "execution_count": null,
   "id": "8b9f2f0f-bb60-4911-bade-c3219be9fa22",
   "metadata": {},
   "outputs": [],
   "source": [
    "# selecting observations and variables of interest\n",
    "my_teams = teams.loc[teams['yearID'] > 2000,  ['yearID', 'teamID', 'lgID', 'G', 'W', 'L', 'R', 'RA']]\n",
    "my_teams.head()"
   ]
  },
  {
   "cell_type": "code",
   "execution_count": null,
   "id": "5e2954aa-ce1b-4b72-b952-de81f9ccd81c",
   "metadata": {},
   "outputs": [],
   "source": [
    "## computing RD, WPCT, and League\n",
    "my_teams['RD'] = my_teams['R'] - my_teams['RA']\n",
    "my_teams['Wpct'] = my_teams['W'] - (my_teams['W'] + my_teams['L'])\n",
    "my_teams['League'] = np.where(my_teams['lgID'] == 'NL', 0, 1)\n",
    "my_teams.head()"
   ]
  },
  {
   "cell_type": "code",
   "execution_count": null,
   "id": "46c3aedb-b7bb-4110-b698-8e812d056e07",
   "metadata": {},
   "outputs": [],
   "source": [
    "import statsmodels.formula.api as smf\n",
    "\n",
    "# building linear model\n",
    "lm_md = smf.ols(formula = 'Wpct ~ RD', data = my_teams).fit()\n",
    "\n",
    "# extracting model results\n",
    "lm_md.summary()"
   ]
  },
  {
   "cell_type": "code",
   "execution_count": null,
   "id": "6e95d338-ccd3-408c-92e6-8713e86dddd4",
   "metadata": {},
   "outputs": [],
   "source": [
    "# computing rmse of model\n",
    "RMSE_lm = np.sqrt(np.mean((lm_md.fittedvalues - my_teams['Wpct'])**2))\n",
    "round(RMSE_lm, 4)"
   ]
  },
  {
   "cell_type": "code",
   "execution_count": null,
   "id": "aed30f31-9098-445c-8d1c-badd2aa20946",
   "metadata": {},
   "outputs": [],
   "source": [
    "# estimating wpct using pythagorean approach with k = 1.85\n",
    "my_teams['Wpct_pyt'] = my_teams['R']**1.85 / (my_teams['R']**1.85 + my_teams['RA']**1.85)\n",
    "my_teams.head()"
   ]
  },
  {
   "cell_type": "code",
   "execution_count": null,
   "id": "15cc2f57-13fb-4c16-bb2d-59141b48c485",
   "metadata": {},
   "outputs": [],
   "source": [
    "# computing pythagorean rmse\n",
    "RMSE_pyt = np.sqrt(np.mean((my_teams['Wpct_pyt'] - my_teams['Wpct'])**2))\n",
    "round(RMSE_pyt, 4)\n",
    "\n",
    "## We would use the pythagorean model to predict win percentage because it has a small RMSE."
   ]
  },
  {
   "cell_type": "code",
   "execution_count": 21,
   "id": "375fc7e5-e384-479c-bb21-7e8479ae1f0e",
   "metadata": {},
   "outputs": [
    {
     "data": {
      "text/plain": [
       "0.4875"
      ]
     },
     "execution_count": 21,
     "metadata": {},
     "output_type": "execute_result"
    }
   ],
   "source": [
    "# estimating wpct\n",
    "Wpct = 730**1.85 / (730**1.85 + 750**1.85)\n",
    "round(Wpct, 4)\n",
    "\n",
    "## estimated win percentage with 730 runs and 750 runs allowed is 48.75%"
   ]
  }
 ],
 "metadata": {
  "kernelspec": {
   "display_name": "Python 3",
   "language": "python",
   "name": "python3"
  },
  "language_info": {
   "codemirror_mode": {
    "name": "ipython",
    "version": 3
   },
   "file_extension": ".py",
   "mimetype": "text/x-python",
   "name": "python",
   "nbconvert_exporter": "python",
   "pygments_lexer": "ipython3",
   "version": "3.8.8"
  }
 },
 "nbformat": 4,
 "nbformat_minor": 5
}
