{
 "cells": [
  {
   "cell_type": "code",
   "execution_count": 5,
   "metadata": {},
   "outputs": [
    {
     "data": {
      "text/plain": [
       "<matplotlib.axes._subplots.AxesSubplot at 0x1a2ced26820>"
      ]
     },
     "execution_count": 5,
     "metadata": {},
     "output_type": "execute_result"
    },
    {
     "data": {
      "image/png": "[encoded data removed]",
      "text/plain": [
       "<Figure size 432x288 with 1 Axes>"
      ]
     },
     "metadata": {
      "needs_background": "light"
     },
     "output_type": "display_data"
    }
   ],
   "source": [
    "# importing pandas as pd\n",
    "import pandas as pd\n",
    "\n",
    "# reading csv file\n",
    "goalie_stats = pd.read_csv('game_goalie_stats.csv')\n",
    "goalie_stats.head()\n",
    "\n",
    "# reporting average time of the average time on ice per goalie\n",
    "goalie_stats.groupby('player_id')['timeOnIce'].mean().mean()\n",
    "\n",
    "# reporting median time of the average time on ice per goalie\n",
    "goalie_stats.groupby('player_id')['timeOnIce'].mean().median()\n",
    "\n",
    "## since the mean is less than the median, the distribution is left skewed\n",
    "\n",
    "# creating a histogram of average time on ice per goalie\n",
    "goalie_stats.groupby('player_id')['timeOnIce'].mean().hist()\n",
    "\n",
    "## we can see that the average time on ice is left skewed from the histogram, which tells us that our conclusion is correct."
   ]
  }
 ],
 "metadata": {
  "kernelspec": {
   "display_name": "Python 3",
   "language": "python",
   "name": "python3"
  },
  "language_info": {
   "codemirror_mode": {
    "name": "ipython",
    "version": 3
   },
   "file_extension": ".py",
   "mimetype": "text/x-python",
   "name": "python",
   "nbconvert_exporter": "python",
   "pygments_lexer": "ipython3",
   "version": "3.8.3"
  }
 },
 "nbformat": 4,
 "nbformat_minor": 4
}
